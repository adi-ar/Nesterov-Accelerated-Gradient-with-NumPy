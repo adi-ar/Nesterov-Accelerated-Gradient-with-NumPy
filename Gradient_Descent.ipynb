{
 "cells": [
  {
   "cell_type": "markdown",
   "metadata": {},
   "source": [
    "## Logistic Regression in Plaintext : Training and Evaluation\n",
    "The file Plaintext_train_eval.ipynb shows the implementation and evaluation of Logistic Regression using Stochastic and Nesterov's Accelereated Gradient method."
   ]
  },
  {
   "cell_type": "markdown",
   "metadata": {},
   "source": [
    "We use the the Credit Card Fraud Detection Dataset from Kaggle for this notebook.\n",
    "Four columns are selected for the model based on the EDA performed in the EDA notebook."
   ]
  },
  {
   "cell_type": "code",
   "execution_count": 84,
   "metadata": {},
   "outputs": [
    {
     "data": {
      "text/html": [
       "<div>\n",
       "<style scoped>\n",
       "    .dataframe tbody tr th:only-of-type {\n",
       "        vertical-align: middle;\n",
       "    }\n",
       "\n",
       "    .dataframe tbody tr th {\n",
       "        vertical-align: top;\n",
       "    }\n",
       "\n",
       "    .dataframe thead th {\n",
       "        text-align: right;\n",
       "    }\n",
       "</style>\n",
       "<table border=\"1\" class=\"dataframe\">\n",
       "  <thead>\n",
       "    <tr style=\"text-align: right;\">\n",
       "      <th></th>\n",
       "      <th>V4</th>\n",
       "      <th>V10</th>\n",
       "      <th>V14</th>\n",
       "      <th>V16</th>\n",
       "    </tr>\n",
       "  </thead>\n",
       "  <tbody>\n",
       "    <tr>\n",
       "      <th>count</th>\n",
       "      <td>284807.000000</td>\n",
       "      <td>284807.000000</td>\n",
       "      <td>284807.000000</td>\n",
       "      <td>284807.000000</td>\n",
       "    </tr>\n",
       "    <tr>\n",
       "      <th>mean</th>\n",
       "      <td>-0.014101</td>\n",
       "      <td>-0.028251</td>\n",
       "      <td>-0.004677</td>\n",
       "      <td>-0.001931</td>\n",
       "    </tr>\n",
       "    <tr>\n",
       "      <th>std</th>\n",
       "      <td>0.952832</td>\n",
       "      <td>0.858605</td>\n",
       "      <td>0.983444</td>\n",
       "      <td>0.993073</td>\n",
       "    </tr>\n",
       "    <tr>\n",
       "      <th>min</th>\n",
       "      <td>-4.013912</td>\n",
       "      <td>-22.581869</td>\n",
       "      <td>-20.044245</td>\n",
       "      <td>-16.125316</td>\n",
       "    </tr>\n",
       "    <tr>\n",
       "      <th>25%</th>\n",
       "      <td>-0.599378</td>\n",
       "      <td>-0.491735</td>\n",
       "      <td>-0.443956</td>\n",
       "      <td>-0.534134</td>\n",
       "    </tr>\n",
       "    <tr>\n",
       "      <th>50%</th>\n",
       "      <td>-0.014017</td>\n",
       "      <td>-0.085335</td>\n",
       "      <td>0.052787</td>\n",
       "      <td>0.075792</td>\n",
       "    </tr>\n",
       "    <tr>\n",
       "      <th>75%</th>\n",
       "      <td>0.525007</td>\n",
       "      <td>0.416883</td>\n",
       "      <td>0.514450</td>\n",
       "      <td>0.597198</td>\n",
       "    </tr>\n",
       "    <tr>\n",
       "      <th>max</th>\n",
       "      <td>2.500000</td>\n",
       "      <td>2.500000</td>\n",
       "      <td>2.500000</td>\n",
       "      <td>2.500000</td>\n",
       "    </tr>\n",
       "  </tbody>\n",
       "</table>\n",
       "</div>"
      ],
      "text/plain": [
       "                  V4            V10            V14            V16\n",
       "count  284807.000000  284807.000000  284807.000000  284807.000000\n",
       "mean       -0.014101      -0.028251      -0.004677      -0.001931\n",
       "std         0.952832       0.858605       0.983444       0.993073\n",
       "min        -4.013912     -22.581869     -20.044245     -16.125316\n",
       "25%        -0.599378      -0.491735      -0.443956      -0.534134\n",
       "50%        -0.014017      -0.085335       0.052787       0.075792\n",
       "75%         0.525007       0.416883       0.514450       0.597198\n",
       "max         2.500000       2.500000       2.500000       2.500000"
      ]
     },
     "execution_count": 84,
     "metadata": {},
     "output_type": "execute_result"
    }
   ],
   "source": [
    "import numpy as np\n",
    "import pandas as pd\n",
    "import matplotlib.pyplot as plt\n",
    "import math\n",
    "\n",
    "import sklearn\n",
    "from sklearn.linear_model import LogisticRegression\n",
    "\n",
    "## Read data\n",
    "inputData = pd.read_csv(\"./creditcard.csv\")\n",
    "data = inputData.iloc[:,[4,10,14,16]]\n",
    "y = inputData.iloc[:,30] \n",
    "\n",
    "data = (data - data.mean())/data.std()\n",
    "\n",
    "\n",
    "data.iloc[data>2.5] = 2.5\n",
    "\n",
    "data.describe()"
   ]
  },
  {
   "cell_type": "markdown",
   "metadata": {},
   "source": [
    "### Training data preparation\n",
    "\n",
    "Before running gradient descent, we need to split train-test data, calculate pre-computed weights, and define requred functions."
   ]
  },
  {
   "cell_type": "code",
   "execution_count": 85,
   "metadata": {},
   "outputs": [
    {
     "name": "stdout",
     "output_type": "stream",
     "text": [
      "Shape of training data after Near Miss: (14678, 4)\n"
     ]
    }
   ],
   "source": [
    "# Sample Selection\n",
    "\n",
    "from sklearn.model_selection import train_test_split\n",
    "from imblearn.under_sampling import NearMiss\n",
    "\n",
    "X_train, X_test, y_train, y_test = train_test_split(data, y, test_size=0.3, random_state=2)\n",
    "\n",
    "\n",
    "nm = NearMiss(random_state = 2, sampling_strategy=0.025)\n",
    "x_res, y_res = nm.fit_resample(X_train, y_train.ravel())\n",
    "\n",
    "print('Shape of training data after Near Miss: {}'.format(x_res.shape))\n",
    "\n",
    "\n",
    "x_res = pd.DataFrame(x_res)\n",
    "\n",
    "# Weights precomputation\n",
    "# temp = (x_res.loc[y_res==0,:].mean() + x_res.loc[y_res==1,:].mean() )/2\n",
    "\n",
    "# weight_precomp = [-1*np.log(0.66)/x for x in temp]\n",
    "\n",
    "# bias = [0.6]\n",
    "\n",
    "# beta = pd.Series(bias + weight_precomp)\n",
    "\n",
    "# print(weight_precomp)\n",
    "\n",
    "\n",
    "\n"
   ]
  },
  {
   "cell_type": "code",
   "execution_count": 86,
   "metadata": {},
   "outputs": [],
   "source": [
    "## Define Util functions #####\n",
    "\n",
    "\n",
    "def getLinResponse(train_data, beta):\n",
    "    \n",
    "    ## replace with pd dot function\n",
    "    lin_response = pd.Series(np.dot(train_data, beta))\n",
    "    return lin_response\n",
    "\n",
    "def getSigmoid(lin_response):\n",
    "    \n",
    "    sigmoid = (1 / (1 + np.exp(-1*(lin_response))))\n",
    "    return sigmoid\n",
    "\n",
    "\n",
    "\n",
    "def getBatchGradient(sigmoid, y, train_data):\n",
    "    \n",
    "    bg = np.dot((sigmoid-y).T, train_data)\n",
    "    return bg\n",
    "\n",
    "def getMomentumGradient(sigmoid, y, train_data, mGradient):\n",
    "    \n",
    "    bGradient = getBatchGradient(sigmoid, y, train_data)\n",
    "    for index in range(len(bGradient)):\n",
    "        mGradient[index] = ((1 * bGradient[index])/20) + (19 * mGradient[index]/20)\n",
    "#         mGradient[index] = (bGradient[index]) + (9 * mGradient[index]/10)\n",
    "    \n",
    "    return mGradient\n",
    "\n",
    "def getError(sigmoid, y, t_size):\n",
    "    \n",
    "    \n",
    "    err = np.sum(y*np.log(sigmoid)+(1-y)*np.log(1-sigmoid))/(-1*t_size)  \n",
    "    \n",
    "    return err\n"
   ]
  },
  {
   "cell_type": "code",
   "execution_count": 87,
   "metadata": {},
   "outputs": [],
   "source": [
    "## Run Gradient Descent with NAG"
   ]
  },
  {
   "cell_type": "code",
   "execution_count": 88,
   "metadata": {},
   "outputs": [],
   "source": [
    "## Ones column is added to X to account for Bias term in regression\n",
    "\n",
    "xconst = pd.DataFrame(np.ones(len(x_res)))\n",
    "train_data = pd.concat([xconst, x_res], axis = 1)\n",
    "\n",
    "\n",
    "### Initialize weights vector to 0\n",
    "\n",
    "beta=pd.Series(np.zeros(x_res.shape[1]+1))"
   ]
  },
  {
   "cell_type": "code",
   "execution_count": 89,
   "metadata": {},
   "outputs": [
    {
     "name": "stdout",
     "output_type": "stream",
     "text": [
      "starting iter:  0\n"
     ]
    },
    {
     "name": "stderr",
     "output_type": "stream",
     "text": [
      "D:\\Anaconda\\lib\\site-packages\\ipykernel_launcher.py:34: RuntimeWarning: divide by zero encountered in log\n"
     ]
    },
    {
     "name": "stdout",
     "output_type": "stream",
     "text": [
      "starting iter:  100\n",
      "starting iter:  200\n",
      "starting iter:  300\n",
      "starting iter:  400\n",
      "starting iter:  500\n",
      "starting iter:  600\n",
      "starting iter:  700\n",
      "starting iter:  800\n",
      "starting iter:  900\n",
      "failed to converge in max iterations\n"
     ]
    },
    {
     "data": {
      "text/plain": [
       "[<matplotlib.lines.Line2D at 0x17d0de28eb8>]"
      ]
     },
     "execution_count": 89,
     "metadata": {},
     "output_type": "execute_result"
    },
    {
     "data": {
      "image/png": "[encoded data removed]",
      "text/plain": [
       "<Figure size 432x288 with 1 Axes>"
      ]
     },
     "metadata": {
      "needs_background": "light"
     },
     "output_type": "display_data"
    }
   ],
   "source": [
    "y_res = pd.Series(y_res)\n",
    "\n",
    "\n",
    "y = y_res\n",
    "t_size = len(train_data)\n",
    "\n",
    "iter_num= []\n",
    "alphaCol = []\n",
    "error = []\n",
    "\n",
    "# Stop if error goes below 0.1\n",
    "thresh = pow(10,-6)\n",
    "\n",
    "# Stop if not converged in max iterations\n",
    "max_iter = 1000\n",
    "\n",
    "alpha = pow(10,-4)\n",
    "\n",
    "mGradient = np.zeros(len(data.columns)+1)\n",
    "\n",
    "\n",
    "for i in range(max_iter):\n",
    "    \n",
    "    if i%100==0:\n",
    "        print(\"starting iter: \", i)\n",
    "    \n",
    "    iter_num.append(i)\n",
    "    alphaCol.append(alpha)\n",
    "    \n",
    "\n",
    "    step_temp = pd.Series([val * alpha * -1 for val in mGradient])\n",
    "    \n",
    "\n",
    "    beta_temp = beta.add(step_temp)\n",
    "    \n",
    "\n",
    "    lin_response = getLinResponse(train_data, beta_temp)\n",
    "\n",
    "\n",
    "#     sigmoid_l = lsa3Sigmoid(lin_response)\n",
    "    sigmoid=getSigmoid(lin_response)\n",
    "    \n",
    "\n",
    "    mGradient = getMomentumGradient(sigmoid, y, train_data, mGradient)\n",
    "    \n",
    "\n",
    "    step = pd.Series([val * alpha * -1 for val in mGradient])\n",
    "    \n",
    "\n",
    "    error.append(getError(sigmoid, y, t_size))\n",
    "\n",
    "    if error[i] < thresh:\n",
    "    \n",
    "        print(\"Converged in iteration: \",i)\n",
    "        break\n",
    "    elif i == max_iter-1:\n",
    "        print(\"failed to converge in max iterations\")\n",
    "        break\n",
    "    else:\n",
    "#         print(\"update beta with updated step\")\n",
    "        beta = beta.add(step)\n",
    "        continue\n",
    "\n",
    "plt.plot(error, label=\"Error plot by iteration\")"
   ]
  },
  {
   "cell_type": "markdown",
   "metadata": {},
   "source": [
    "## Evaluation on Training Data\n",
    "\n",
    "The output of the model on training data is simply the sigmoid output for the last iteration of GD.\n",
    "We apply a threshold as 0.6 (to further reduce False Politives).\n",
    "This gives the output of the model is {0,1} in the vector 'out'.\n",
    "This is compared with the training data y vector, y_res, and then accuracy and other metrics are calculated"
   ]
  },
  {
   "cell_type": "code",
   "execution_count": 90,
   "metadata": {},
   "outputs": [
    {
     "data": {
      "text/plain": [
       "(14305, 15, 84, 274)"
      ]
     },
     "execution_count": 90,
     "metadata": {},
     "output_type": "execute_result"
    }
   ],
   "source": [
    "from sklearn.metrics import roc_auc_score\n",
    "from sklearn.metrics import roc_curve\n",
    "from sklearn.metrics import precision_recall_curve\n",
    "from sklearn.metrics import matthews_corrcoef\n",
    "from sklearn.metrics import confusion_matrix\n",
    "\n",
    "out = sigmoid > 0.7\n",
    "nag_train_accuracy = sum(out == y)/len(y)\n",
    "nag_train_auc = roc_auc_score(y_res, out)\n",
    "nag_train_fpr, nag_train_tpr, _ = roc_curve(y_res, sigmoid)\n",
    "nag_train_precision, nag_train_recall, _ = precision_recall_curve(y_res, sigmoid)\n",
    "nag_train_mcc = matthews_corrcoef(y_res, out)\n",
    "\n",
    "tn, fp, fn, tp = confusion_matrix(y_res, out).ravel()\n",
    "(tn, fp, fn, tp)"
   ]
  },
  {
   "cell_type": "code",
   "execution_count": 91,
   "metadata": {},
   "outputs": [
    {
     "name": "stdout",
     "output_type": "stream",
     "text": [
      "0.9932552118817277 0.8821578212290504 0.8486361788600344\n"
     ]
    }
   ],
   "source": [
    "print(nag_train_accuracy, nag_train_auc, nag_train_mcc)"
   ]
  },
  {
   "cell_type": "markdown",
   "metadata": {},
   "source": [
    "## Train sklearn Logistic Regression model and calculate metrics.\n",
    "\n",
    "sklearn model is trained for comparison and evaluation of our algorithm.\n",
    "The 'liblinear' solver is used, which is considered appropriate for small datasets"
   ]
  },
  {
   "cell_type": "code",
   "execution_count": 92,
   "metadata": {},
   "outputs": [],
   "source": [
    "clf = LogisticRegression(random_state=42, solver = 'liblinear').fit(x_res, y_res)\n",
    "y_pred = clf.predict(x_res)\n",
    "y_pred_prob = clf.predict_proba(x_res)\n",
    "y_pred_prob = y_pred_prob[:,1]\n",
    "\n",
    "sk_train_accuracy = clf.score(x_res,y_res)\n",
    "sk_train_auc = roc_auc_score(y_res, y_pred)\n",
    "sk_train_fpr, sk_train_tpr, _ = roc_curve(y_res, y_pred_prob)\n",
    "sk_train_precision, sk_train_recall, _ = precision_recall_curve(y_res, y_pred_prob)\n",
    "sk_train_mcc = matthews_corrcoef(y_res, y_pred)"
   ]
  },
  {
   "cell_type": "code",
   "execution_count": 93,
   "metadata": {},
   "outputs": [
    {
     "data": {
      "text/plain": [
       "(0.894622905027933, 0.8590291932201839)"
      ]
     },
     "execution_count": 93,
     "metadata": {},
     "output_type": "execute_result"
    }
   ],
   "source": [
    "sk_train_auc, sk_train_mcc"
   ]
  },
  {
   "cell_type": "code",
   "execution_count": 94,
   "metadata": {},
   "outputs": [],
   "source": [
    "# Evaluate NAG algorithm model for test data"
   ]
  },
  {
   "cell_type": "code",
   "execution_count": 95,
   "metadata": {},
   "outputs": [
    {
     "name": "stdout",
     "output_type": "stream",
     "text": [
      "85278 31 27 107\n"
     ]
    }
   ],
   "source": [
    "X_test = np.array(X_test)\n",
    "\n",
    "const1 = np.ones(len(X_test))\n",
    "const1 = const1.reshape(len(X_test), 1)\n",
    "test_data = np.concatenate((const1, X_test), axis = 1)\n",
    "\n",
    "beta_test = [0.49,0.27,-0.12,-0.09,-0.15]\n",
    "test_resp = getLinResponse(test_data, beta)\n",
    "test_sig = getSigmoid(test_resp)\n",
    "test_out = test_sig > 0.6\n",
    "\n",
    "test_out = np.array(test_out)\n",
    "y_test = np.array(y_test)\n",
    "\n",
    "\n",
    "tn_test, fp_test, fn_test, tp_test = confusion_matrix(y_test, test_out).ravel()\n",
    "nag_test_accuracy = sum(test_out == y_test)/len(y_test)\n",
    "nag_test_auc = roc_auc_score(y_test, test_out)\n",
    "nag_test_mcc = matthews_corrcoef(y_test, test_out)\n",
    "nag_test_fpr, nag_test_tpr, _ = roc_curve(y_test, test_sig)\n",
    "nag_test_precision, nag_test_recall, _ = precision_recall_curve(y_test, test_sig)\n",
    "print(tn_test, fp_test, fn_test, tp_test)"
   ]
  },
  {
   "cell_type": "code",
   "execution_count": 96,
   "metadata": {},
   "outputs": [],
   "source": [
    "## Evaluate sklearn model for test data"
   ]
  },
  {
   "cell_type": "code",
   "execution_count": 97,
   "metadata": {},
   "outputs": [
    {
     "name": "stdout",
     "output_type": "stream",
     "text": [
      "85285 24 26 108\n"
     ]
    }
   ],
   "source": [
    "test_pred = clf.predict(X_test)\n",
    "test_pred_prob = clf.predict_proba(X_test)\n",
    "test_pred_prob = test_pred_prob[:,1]\n",
    "\n",
    "sk_test_accuracy = clf.score(X_test,y_test)\n",
    "sk_test_auc = roc_auc_score(y_test, test_pred)\n",
    "sk_test_fpr, sk_test_tpr, _ = roc_curve(y_test, test_pred_prob)\n",
    "sk_test_precision, sk_test_recall, _ = precision_recall_curve(y_test, test_pred_prob)\n",
    "sk_test_mcc = matthews_corrcoef(y_test, test_pred)\n",
    "tn_test, fp_test, fn_test, tp_test = confusion_matrix(y_test, test_pred).ravel()\n",
    "print(tn_test, fp_test, fn_test, tp_test)"
   ]
  },
  {
   "cell_type": "code",
   "execution_count": 98,
   "metadata": {},
   "outputs": [
    {
     "data": {
      "image/png": "[encoded data removed]",
      "text/plain": [
       "<Figure size 1080x504 with 2 Axes>"
      ]
     },
     "metadata": {
      "needs_background": "light"
     },
     "output_type": "display_data"
    },
    {
     "name": "stdout",
     "output_type": "stream",
     "text": [
      "sklearn AUC =  0.90284440951533    NAG AUC =  0.8990720389075499 \n",
      "\n",
      "sklearn MCC =  0.8117600601574421    NAG MCC =  0.786510153329687\n"
     ]
    }
   ],
   "source": [
    "## Print Evaluation and plot\n",
    "\n",
    "fig = plt.figure(figsize = (15,7))\n",
    "\n",
    "plt.subplot(1, 2, 1)\n",
    "plt.plot(sk_test_fpr,sk_test_tpr, label = 'sklearn model')\n",
    "plt.plot(nag_test_fpr, nag_test_tpr, label = 'NAG plaintext')\n",
    "plt.legend(loc='best')\n",
    "plt.title(\"AUC curves comparison\")\n",
    "\n",
    "plt.subplot(1, 2, 2)\n",
    "plt.plot(sk_test_recall, sk_test_precision, label = 'sklearn model')\n",
    "plt.plot(nag_test_recall, nag_test_precision, label = 'NAG plaintext')\n",
    "plt.legend(loc='best')\n",
    "plt.title(\"Precision-Recall curves comparison \")\n",
    "# plt.savefig('./out/sk_pt_evaluation.png', dpi = 100)\n",
    "plt.show()\n",
    "\n",
    "print(\"sklearn AUC = \", sk_test_auc, \"   NAG AUC = \", nag_test_auc,\"\\n\")\n",
    "print(\"sklearn MCC = \", sk_test_mcc, \"   NAG MCC = \", nag_test_mcc)"
   ]
  }
 ],
 "metadata": {
  "kernelspec": {
   "display_name": "Python 3",
   "language": "python",
   "name": "python3"
  },
  "language_info": {
   "codemirror_mode": {
    "name": "ipython",
    "version": 3
   },
   "file_extension": ".py",
   "mimetype": "text/x-python",
   "name": "python",
   "nbconvert_exporter": "python",
   "pygments_lexer": "ipython3",
   "version": "3.7.3"
  }
 },
 "nbformat": 4,
 "nbformat_minor": 2
}
